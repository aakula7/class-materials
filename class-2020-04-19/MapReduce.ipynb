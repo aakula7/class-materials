{
 "cells": [
  {
   "cell_type": "markdown",
   "metadata": {},
   "source": [
    "## Command Line Commands from Jupyter"
   ]
  },
  {
   "cell_type": "code",
   "execution_count": 1,
   "metadata": {},
   "outputs": [
    {
     "name": "stdout",
     "output_type": "stream",
     "text": [
      "\u001b[31mREADME.md\u001b[m\u001b[m             \u001b[31mpg2701.txt.map\u001b[m\u001b[m        \u001b[31msimple.py\u001b[m\u001b[m\r\n",
      "Untitled.ipynb        \u001b[31mpg2701.txt.map.sorted\u001b[m\u001b[m \u001b[31msingle_machine.py\u001b[m\u001b[m\r\n",
      "\u001b[31mmapping.py\u001b[m\u001b[m            \u001b[31mreducing.py\u001b[m\u001b[m\r\n",
      "\u001b[31mpg2701.txt\u001b[m\u001b[m            \u001b[31mshuffling.py\u001b[m\u001b[m\r\n"
     ]
    }
   ],
   "source": [
    "!ls"
   ]
  },
  {
   "cell_type": "code",
   "execution_count": 2,
   "metadata": {},
   "outputs": [
    {
     "name": "stdout",
     "output_type": "stream",
     "text": [
      "/Users/owl/Projects/spu-bigdataanalytics-201/class-materials/class-2020-04-19\r\n"
     ]
    }
   ],
   "source": [
    "!pwd"
   ]
  },
  {
   "cell_type": "code",
   "execution_count": 4,
   "metadata": {},
   "outputs": [
    {
     "name": "stdout",
     "output_type": "stream",
     "text": [
      "Python 3.7.6\r\n"
     ]
    }
   ],
   "source": [
    "!python3 --version"
   ]
  },
  {
   "cell_type": "code",
   "execution_count": 5,
   "metadata": {},
   "outputs": [
    {
     "name": "stdout",
     "output_type": "stream",
     "text": [
      "<map object at 0x10800cd10>\r\n",
      "[('Bear', 1), ('Bear', 1), ('Car', 1), ('Car', 1), ('Car', 1), ('Deer', 1), ('Deer', 1), ('River', 1), ('River', 1)]\r\n",
      "[('Bear', 2), ('Car', 3), ('Deer', 2), ('River', 2)]\r\n"
     ]
    }
   ],
   "source": [
    "!python3 simple.py"
   ]
  },
  {
   "cell_type": "markdown",
   "metadata": {},
   "source": [
    "## Map Reduce"
   ]
  },
  {
   "cell_type": "code",
   "execution_count": 6,
   "metadata": {},
   "outputs": [],
   "source": [
    "from functools import reduce\n",
    "from itertools import groupby"
   ]
  },
  {
   "cell_type": "code",
   "execution_count": 9,
   "metadata": {},
   "outputs": [
    {
     "name": "stdout",
     "output_type": "stream",
     "text": [
      "[('Deer', 1), ('Bear', 1), ('River', 1), ('Car', 1), ('Car', 1), ('River', 1), ('Deer', 1), ('Car', 1), ('Bear', 1)]\n"
     ]
    }
   ],
   "source": [
    "# ========= Mapping ==========\n",
    "\n",
    "words = ['Deer', 'Bear', 'River', 'Car',\n",
    "         'Car', 'River', 'Deer', 'Car', 'Bear']\n",
    "\n",
    "mapping = list(map(lambda x: (x, 1), words))\n",
    "print(mapping)"
   ]
  },
  {
   "cell_type": "code",
   "execution_count": 10,
   "metadata": {},
   "outputs": [
    {
     "name": "stdout",
     "output_type": "stream",
     "text": [
      "[('Bear', 1), ('Bear', 1), ('Car', 1), ('Car', 1), ('Car', 1), ('Deer', 1), ('Deer', 1), ('River', 1), ('River', 1)]\n"
     ]
    }
   ],
   "source": [
    "# ========= Shuffling ==========\n",
    "\n",
    "sorted_mapping = sorted(mapping)\n",
    "print(sorted_mapping)"
   ]
  },
  {
   "cell_type": "code",
   "execution_count": 13,
   "metadata": {},
   "outputs": [
    {
     "name": "stdout",
     "output_type": "stream",
     "text": [
      "[('Bear', 2), ('Car', 3), ('Deer', 2), ('River', 2)]\n"
     ]
    }
   ],
   "source": [
    "# ========= Reducing ==========\n",
    "\n",
    "grouper = groupby(sorted_mapping, lambda p: p[0])\n",
    "\n",
    "final = map(\n",
    "    lambda l: (l[0], reduce(lambda x, y: x + y, map(lambda p: p[1], l[1]))), \n",
    "    grouper # <- [('Bear', 1), ('Bear', 1)] ---->     l[0] = 'Bear'     and      l[1] = 1\n",
    ")\n",
    "print(list(final))"
   ]
  },
  {
   "cell_type": "code",
   "execution_count": 33,
   "metadata": {},
   "outputs": [
    {
     "name": "stdout",
     "output_type": "stream",
     "text": [
      "Bear\n",
      "[('Bear', 1), ('Bear', 1)]\n",
      "[1, 1]\n",
      "2\n",
      "Car\n",
      "[('Car', 1), ('Car', 1), ('Car', 1)]\n",
      "[1, 1, 1]\n",
      "3\n",
      "Deer\n",
      "[('Deer', 1), ('Deer', 1)]\n",
      "[1, 1]\n",
      "2\n",
      "River\n",
      "[('River', 1), ('River', 1)]\n",
      "[1, 1]\n",
      "2\n"
     ]
    }
   ],
   "source": [
    "# ------ breakdown of 'Reducing' Phase ---------\n",
    "grouper = groupby(sorted_mapping, lambda p: p[0])\n",
    "\n",
    "results = []\n",
    "\n",
    "# loop through each group\n",
    "for group in grouper:\n",
    "    # key that is in the group\n",
    "    key = group[0] \n",
    "    print(key)\n",
    "    \n",
    "    # list of groups for this key\n",
    "    key_value_pairs = list(group[1]) \n",
    "    print(key_value_pairs)\n",
    "    \n",
    "    # only values for current key\n",
    "    values_for_this_key = list(map(lambda p: p[1], key_value_pairs)) \n",
    "    print(values_for_this_key)\n",
    "    \n",
    "    # final part of map 'reduce', for this key\n",
    "    count_of_current_key = reduce(lambda x, y: x + y, values_for_this_key) \n",
    "    print(count_of_current_key)\n",
    "    \n",
    "    # put it to results\n",
    "    results.append((key, count_of_current_key))\n",
    "    #break"
   ]
  },
  {
   "cell_type": "code",
   "execution_count": 34,
   "metadata": {},
   "outputs": [
    {
     "data": {
      "text/plain": [
       "[('Bear', 2), ('Car', 3), ('Deer', 2), ('River', 2)]"
      ]
     },
     "execution_count": 34,
     "metadata": {},
     "output_type": "execute_result"
    }
   ],
   "source": [
    "results"
   ]
  },
  {
   "cell_type": "code",
   "execution_count": 27,
   "metadata": {},
   "outputs": [
    {
     "data": {
      "text/plain": [
       "18"
      ]
     },
     "execution_count": 27,
     "metadata": {},
     "output_type": "execute_result"
    }
   ],
   "source": [
    "# reduce(lambda x, y: x + y, [1, 2, 3, 4, 8])"
   ]
  },
  {
   "cell_type": "markdown",
   "metadata": {},
   "source": [
    "## Single Machine"
   ]
  },
  {
   "cell_type": "code",
   "execution_count": 36,
   "metadata": {},
   "outputs": [
    {
     "name": "stdout",
     "output_type": "stream",
     "text": [
      "max: the = 14620\n",
      "[[\"\", 3235], [\"funereal\", 1], [\"unscientific\", 1], [\"divinely\", 2], [\"cussed\", 1], [\"foul\", 11], [\"four\", 74], [\"gag\", 2], [\"prefix\", 1], [\"woods\", 10]]\n",
      "CPU times: user 13.8 ms, sys: 10.3 ms, total: 24.1 ms\n",
      "Wall time: 718 ms\n"
     ]
    }
   ],
   "source": [
    "%%time\n",
    "\n",
    "! python single_machine.py"
   ]
  },
  {
   "cell_type": "code",
   "execution_count": 37,
   "metadata": {},
   "outputs": [
    {
     "name": "stdout",
     "output_type": "stream",
     "text": [
      "max: the = 14620\r\n"
     ]
    }
   ],
   "source": [
    "! python reducing.py"
   ]
  },
  {
   "cell_type": "code",
   "execution_count": null,
   "metadata": {},
   "outputs": [],
   "source": []
  }
 ],
 "metadata": {
  "kernelspec": {
   "display_name": "Python 3",
   "language": "python",
   "name": "python3"
  },
  "language_info": {
   "codemirror_mode": {
    "name": "ipython",
    "version": 3
   },
   "file_extension": ".py",
   "mimetype": "text/x-python",
   "name": "python",
   "nbconvert_exporter": "python",
   "pygments_lexer": "ipython3",
   "version": "3.7.6"
  }
 },
 "nbformat": 4,
 "nbformat_minor": 4
}
