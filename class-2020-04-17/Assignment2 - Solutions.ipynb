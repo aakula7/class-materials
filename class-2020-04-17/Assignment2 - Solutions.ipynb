{
 "cells": [
  {
   "cell_type": "markdown",
   "metadata": {},
   "source": [
    "## Assignment 2 - Parallel Programming!"
   ]
  },
  {
   "cell_type": "markdown",
   "metadata": {},
   "source": [
    "### Imports"
   ]
  },
  {
   "cell_type": "code",
   "execution_count": 1,
   "metadata": {},
   "outputs": [],
   "source": [
    "import utils\n",
    "import images"
   ]
  },
  {
   "cell_type": "markdown",
   "metadata": {},
   "source": [
    "### Setup the Project"
   ]
  },
  {
   "cell_type": "code",
   "execution_count": 2,
   "metadata": {},
   "outputs": [
    {
     "name": "stdout",
     "output_type": "stream",
     "text": [
      "Config file setup properly.\n"
     ]
    }
   ],
   "source": [
    "utils.create_config_file()"
   ]
  },
  {
   "cell_type": "code",
   "execution_count": null,
   "metadata": {},
   "outputs": [],
   "source": [
    "images.download_data()"
   ]
  },
  {
   "cell_type": "markdown",
   "metadata": {},
   "source": [
    "### Exploratory Data Analysis (EDA)"
   ]
  },
  {
   "cell_type": "code",
   "execution_count": null,
   "metadata": {},
   "outputs": [],
   "source": [
    "%%time\n",
    "df = images.get_df()"
   ]
  },
  {
   "cell_type": "code",
   "execution_count": null,
   "metadata": {},
   "outputs": [],
   "source": [
    "df.shape"
   ]
  },
  {
   "cell_type": "code",
   "execution_count": null,
   "metadata": {},
   "outputs": [],
   "source": [
    "# todo: more eda analysis here."
   ]
  },
  {
   "cell_type": "code",
   "execution_count": null,
   "metadata": {},
   "outputs": [],
   "source": [
    "df.head()"
   ]
  },
  {
   "cell_type": "markdown",
   "metadata": {},
   "source": [
    "### Downloading Images"
   ]
  },
  {
   "cell_type": "markdown",
   "metadata": {},
   "source": [
    "#### Serial Way"
   ]
  },
  {
   "cell_type": "code",
   "execution_count": null,
   "metadata": {
    "scrolled": true
   },
   "outputs": [],
   "source": [
    "%%time\n",
    "\n",
    "images.download_images(quality='regular')"
   ]
  },
  {
   "cell_type": "markdown",
   "metadata": {},
   "source": [
    "#### Parallel Way"
   ]
  },
  {
   "cell_type": "code",
   "execution_count": null,
   "metadata": {},
   "outputs": [],
   "source": [
    "from concurrent.futures import ThreadPoolExecutor"
   ]
  },
  {
   "cell_type": "code",
   "execution_count": null,
   "metadata": {},
   "outputs": [],
   "source": [
    "import pathlib\n",
    "import requests\n",
    "\n",
    "def download_single_image(id, url):\n",
    "    \"\"\"\n",
    "    Downloads images from given image id and url.\n",
    "    \n",
    "    Parameters:\n",
    "    id  : The name of the image to write to folder.\n",
    "    url : The url of the image.\n",
    "    \"\"\"\n",
    "    id = id\n",
    "    url_quality = url\n",
    "    image_path = pathlib.Path(f'data/images/{id}.jpg')\n",
    "\n",
    "    if image_path.exists():\n",
    "        image_path.unlink()\n",
    "\n",
    "    response = requests.get(url_quality, stream=True)\n",
    "    if response.status_code == 200:\n",
    "        with open(image_path, 'wb') as f:\n",
    "            f.write(response.content)"
   ]
  },
  {
   "cell_type": "code",
   "execution_count": null,
   "metadata": {},
   "outputs": [],
   "source": [
    "images_list, json_files = images._get_image_files_list()\n",
    "params_list = [(image['id'], image['urls']['regular']) for image in images_list]"
   ]
  },
  {
   "cell_type": "code",
   "execution_count": null,
   "metadata": {},
   "outputs": [],
   "source": [
    "params_list[:1]"
   ]
  },
  {
   "cell_type": "code",
   "execution_count": null,
   "metadata": {},
   "outputs": [],
   "source": [
    "%%time\n",
    "\n",
    "with ThreadPoolExecutor(max_workers=100, thread_name_prefix='my_thread') as executor:\n",
    "    executor.map(lambda x: download_single_image(*x), params_list)"
   ]
  },
  {
   "cell_type": "markdown",
   "metadata": {},
   "source": [
    "### Resizing Images"
   ]
  },
  {
   "cell_type": "markdown",
   "metadata": {},
   "source": [
    "#### Serial Way"
   ]
  },
  {
   "cell_type": "code",
   "execution_count": null,
   "metadata": {},
   "outputs": [],
   "source": [
    "%%time\n",
    "\n",
    "images.create_thumbnail(size=(128, 128))"
   ]
  },
  {
   "cell_type": "markdown",
   "metadata": {},
   "source": [
    "#### Parallel Way"
   ]
  },
  {
   "cell_type": "code",
   "execution_count": 3,
   "metadata": {},
   "outputs": [],
   "source": [
    "# todo: resize images in parallel way! \n",
    "import multiprocessing as mp\n",
    "from multiprocessing import Pool\n",
    "import concurrent.futures"
   ]
  },
  {
   "cell_type": "code",
   "execution_count": 4,
   "metadata": {},
   "outputs": [],
   "source": [
    "from PIL import Image\n",
    "import pathlib\n",
    "\n",
    "def create_single_thumbnail(id, size=(128, 128)):\n",
    "    \"\"\"\n",
    "    Create resized version of the image path given, with the same name \n",
    "    extended with _thumbnail.\n",
    "    \"\"\"\n",
    "    Image.MAX_IMAGE_PIXELS = None\n",
    "    \n",
    "    id = id\n",
    "    image_path = pathlib.Path(f'data/images/{id}.jpg')\n",
    "\n",
    "    if image_path.exists():\n",
    "        # create thumbnail\n",
    "        image = Image.open(image_path.absolute())\n",
    "        image.thumbnail(size)\n",
    "\n",
    "        # save thumbnail\n",
    "        new_filename = image_path.parent.joinpath(\n",
    "            '{0}_thumbnail{1}'.format(image_path.stem, image_path.suffix))\n",
    "        image.convert('RGB').save(new_filename)"
   ]
  },
  {
   "cell_type": "code",
   "execution_count": null,
   "metadata": {},
   "outputs": [],
   "source": [
    "create_single_thumbnail('Bnu5e3Bq--A')"
   ]
  },
  {
   "cell_type": "code",
   "execution_count": 5,
   "metadata": {},
   "outputs": [],
   "source": [
    "# data for parallel execution\n",
    "images_list, json_files = images._get_image_files_list()\n",
    "params_list = [image['id'] for image in images_list]"
   ]
  },
  {
   "cell_type": "code",
   "execution_count": 6,
   "metadata": {},
   "outputs": [
    {
     "data": {
      "text/plain": [
       "(['G60LMFznEKs',\n",
       "  '-Zp0X1oxOkc',\n",
       "  'd26iwbzYSKM',\n",
       "  'RDBFUjBqz6c',\n",
       "  'q7lbJF9XJ9o',\n",
       "  'emnSxj1yPD8',\n",
       "  'qayNP9ccw9E',\n",
       "  'b4w5nzANd8c',\n",
       "  'D1aqAJGlTP8',\n",
       "  'CKzs8kOg-F4'],\n",
       " 1500)"
      ]
     },
     "execution_count": 6,
     "metadata": {},
     "output_type": "execute_result"
    }
   ],
   "source": [
    "params_list[:10], len(params_list)"
   ]
  },
  {
   "cell_type": "code",
   "execution_count": null,
   "metadata": {},
   "outputs": [],
   "source": [
    "df.id"
   ]
  },
  {
   "cell_type": "code",
   "execution_count": null,
   "metadata": {},
   "outputs": [],
   "source": [
    "%%time\n",
    "\n",
    "processes_list = []\n",
    "\n",
    "for params in params_list:\n",
    "    process = mp.Process(target=create_single_thumbnail, args=(params,))\n",
    "    processes_list.append(process)\n",
    "\n",
    "print('Created processes.')\n",
    "    \n",
    "for process in processes_list:\n",
    "    process.start()\n",
    "    \n",
    "print('Yey! processes started!')\n",
    "\n",
    "for process in processes_list:\n",
    "    process.join()\n",
    "\n",
    "for process in processes_list:\n",
    "    process.is_alive()\n",
    "\n",
    "print('Completed!')"
   ]
  },
  {
   "cell_type": "code",
   "execution_count": null,
   "metadata": {},
   "outputs": [],
   "source": [
    "%%time\n",
    "\n",
    "with Pool(processes=20) as p:\n",
    "    p.map(create_single_thumbnail, params_list)"
   ]
  },
  {
   "cell_type": "code",
   "execution_count": 8,
   "metadata": {},
   "outputs": [
    {
     "name": "stdout",
     "output_type": "stream",
     "text": [
      "Wall time: 354 ms\n"
     ]
    }
   ],
   "source": [
    "%%time\n",
    "\n",
    "with concurrent.futures.ProcessPoolExecutor() as executor:\n",
    "    executor.map(create_single_thumbnail, params_list)"
   ]
  },
  {
   "cell_type": "markdown",
   "metadata": {},
   "source": [
    "### Conclusion"
   ]
  },
  {
   "cell_type": "markdown",
   "metadata": {},
   "source": [
    "You have completed your assignment! Now, it is time to share your results and conclusions!\n",
    "\n",
    "You may need to comment about three things.\n",
    "\n",
    "1. Your dataset. Explain your EDA findings.\n",
    "2. Serial and Parallel way differences. What is the difference btw downloading and resizing?\n",
    "3. Your timing results of both operations in both serial and parallel way."
   ]
  },
  {
   "cell_type": "code",
   "execution_count": null,
   "metadata": {},
   "outputs": [],
   "source": [
    "# todo: share your conclusions"
   ]
  }
 ],
 "metadata": {
  "kernelspec": {
   "display_name": "Assignment2",
   "language": "python",
   "name": "assignment2"
  },
  "language_info": {
   "codemirror_mode": {
    "name": "ipython",
    "version": 3
   },
   "file_extension": ".py",
   "mimetype": "text/x-python",
   "name": "python",
   "nbconvert_exporter": "python",
   "pygments_lexer": "ipython3",
   "version": "3.8.1"
  }
 },
 "nbformat": 4,
 "nbformat_minor": 4
}
